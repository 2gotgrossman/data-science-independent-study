{
 "cells": [
  {
   "cell_type": "code",
   "execution_count": 175,
   "metadata": {},
   "outputs": [
    {
     "ename": "ImportError",
     "evalue": "cannot import name __check_build",
     "output_type": "error",
     "traceback": [
      "\u001b[0;31m---------------------------------------------------------------------------\u001b[0m",
      "\u001b[0;31mImportError\u001b[0m                               Traceback (most recent call last)",
      "\u001b[0;32m<ipython-input-175-c69b1cf01be7>\u001b[0m in \u001b[0;36m<module>\u001b[0;34m()\u001b[0m\n\u001b[1;32m      1\u001b[0m \u001b[0;32mimport\u001b[0m \u001b[0mnumpy\u001b[0m \u001b[0;32mas\u001b[0m \u001b[0mnp\u001b[0m\u001b[0;34m\u001b[0m\u001b[0m\n\u001b[1;32m      2\u001b[0m \u001b[0;32mfrom\u001b[0m \u001b[0mcollections\u001b[0m \u001b[0;32mimport\u001b[0m \u001b[0mCounter\u001b[0m  \u001b[0;31m# For mode\u001b[0m\u001b[0;34m\u001b[0m\u001b[0m\n\u001b[0;32m----> 3\u001b[0;31m \u001b[0;32mfrom\u001b[0m \u001b[0msklearn\u001b[0m\u001b[0;34m.\u001b[0m\u001b[0mmetrics\u001b[0m \u001b[0;32mimport\u001b[0m \u001b[0mconfusion_matrix\u001b[0m\u001b[0;34m\u001b[0m\u001b[0m\n\u001b[0m",
      "\u001b[0;32m/Users/David/anaconda/lib/python2.7/site-packages/sklearn/__init__.py\u001b[0m in \u001b[0;36m<module>\u001b[0;34m()\u001b[0m\n\u001b[1;32m     54\u001b[0m     \u001b[0;31m# process, as it may not be compiled yet\u001b[0m\u001b[0;34m\u001b[0m\u001b[0;34m\u001b[0m\u001b[0m\n\u001b[1;32m     55\u001b[0m \u001b[0;32melse\u001b[0m\u001b[0;34m:\u001b[0m\u001b[0;34m\u001b[0m\u001b[0m\n\u001b[0;32m---> 56\u001b[0;31m     \u001b[0;32mfrom\u001b[0m \u001b[0;34m.\u001b[0m \u001b[0;32mimport\u001b[0m \u001b[0m__check_build\u001b[0m\u001b[0;34m\u001b[0m\u001b[0m\n\u001b[0m\u001b[1;32m     57\u001b[0m     \u001b[0;32mfrom\u001b[0m \u001b[0;34m.\u001b[0m\u001b[0mbase\u001b[0m \u001b[0;32mimport\u001b[0m \u001b[0mclone\u001b[0m\u001b[0;34m\u001b[0m\u001b[0m\n\u001b[1;32m     58\u001b[0m     \u001b[0m__check_build\u001b[0m  \u001b[0;31m# avoid flakes unused variable error\u001b[0m\u001b[0;34m\u001b[0m\u001b[0m\n",
      "\u001b[0;31mImportError\u001b[0m: cannot import name __check_build"
     ]
    }
   ],
   "source": [
    "import numpy as np\n",
    "from collections import Counter  # For mode"
   ]
  },
  {
   "cell_type": "markdown",
   "metadata": {},
   "source": [
    "#### Load data"
   ]
  },
  {
   "cell_type": "code",
   "execution_count": 39,
   "metadata": {
    "collapsed": true
   },
   "outputs": [],
   "source": [
    "# lines cotains a list of a list of values. The first value in each sub-list is the y_value\n",
    "def get_formatted_data(data):\n",
    "    lines = map(lambda x: x.split(\" \"), data.split(\"\\n\"))\n",
    "    y_vals = []\n",
    "    x_vals = []\n",
    "    lines = filter(lambda line : line != [\"\"], lines)\n",
    "    for line in lines:\n",
    "        y_vals.append(int(float(line[0])))\n",
    "        x_vals.append( tuple( map(float, line[1:-1]) ) )\n",
    "    print len(y_vals)\n",
    "    return [x_vals, y_vals]"
   ]
  },
  {
   "cell_type": "code",
   "execution_count": 165,
   "metadata": {},
   "outputs": [
    {
     "name": "stdout",
     "output_type": "stream",
     "text": [
      "7291\n",
      "2007\n",
      "Observations in training set:  7291\n",
      "Observations in testing set:  2007\n"
     ]
    }
   ],
   "source": [
    "with open(\"zip.train\", 'r') as f:\n",
    "    train_data = f.read()\n",
    "with open(\"zip.test\", 'r') as f:\n",
    "    test_data = f.read()\n",
    "train_x_data, train_y_data = get_formatted_data(train_data)\n",
    "test_x_data, test_y_data = get_formatted_data(test_data)\n",
    "print \"Observations in training set: \", len(train_y_data)\n",
    "print \"Observations in testing set: \", len(test_y_data)"
   ]
  },
  {
   "cell_type": "markdown",
   "metadata": {},
   "source": [
    "#### Some Common Functions\n",
    "**_Note: since we can have more than 1 mode, we will just take the first mode we find._**"
   ]
  },
  {
   "cell_type": "code",
   "execution_count": 122,
   "metadata": {
    "collapsed": true
   },
   "outputs": [],
   "source": [
    "def get_distance_metric(vec1, vec2):\n",
    "    diffs = map(lambda (x,y): (x-y)**2, zip(vec1, vec2))\n",
    "    return sum(diffs)\n",
    "\n",
    "def get_mode(arr):\n",
    "    return Counter(arr).most_common(1)[0][0]"
   ]
  },
  {
   "cell_type": "markdown",
   "metadata": {},
   "source": [
    "#### K Nearest Neighbors Algorithm"
   ]
  },
  {
   "cell_type": "code",
   "execution_count": 159,
   "metadata": {
    "collapsed": true
   },
   "outputs": [],
   "source": [
    "def get_label_k_nn(test_vec, train_x_data, train_y_data, k=1):\n",
    "    distances = map(lambda x: get_distance_metric(test_vec, x), train_x_data)\n",
    "    \n",
    "    # finds the indices of the k values that have minimal distance\n",
    "    # Uses numpy magic\n",
    "    min_indices = np.argpartition(np.array(distances), k)[:k]\n",
    "    labels = map(lambda x: train_y_data[x], min_indices)\n",
    "    # Gets the mode\n",
    "    return get_mode(labels)"
   ]
  },
  {
   "cell_type": "code",
   "execution_count": 162,
   "metadata": {
    "collapsed": true
   },
   "outputs": [],
   "source": [
    "def test_knn(train_x_data, train_y_data, test_x_data, test_y_data, k=1):\n",
    "    correct = 0\n",
    "    for test_vec, test_label, i in zip(test_x_data, test_y_data, range(len(test_y_data))):\n",
    "        prediction = get_label_k_nn(test_vec, train_x_data, train_y_data, k)\n",
    "        if test_label == prediction:\n",
    "            correct += 1\n",
    "    return float(correct) / len(test_y_data)"
   ]
  },
  {
   "cell_type": "markdown",
   "metadata": {},
   "source": [
    "#### Test for K=1\n",
    "It takes about .5 seconds per test example (15 minutes total). The expensive part is generating the `distances` vector."
   ]
  },
  {
   "cell_type": "code",
   "execution_count": 163,
   "metadata": {
    "scrolled": false
   },
   "outputs": [
    {
     "data": {
      "text/plain": [
       "0.9436970602889886"
      ]
     },
     "execution_count": 163,
     "metadata": {},
     "output_type": "execute_result"
    }
   ],
   "source": [
    "test_knn(train_x_data, train_y_data, test_x_data, test_y_data, 1)"
   ]
  },
  {
   "cell_type": "markdown",
   "metadata": {},
   "source": [
    "#### Since it takes so long to do this K-NN, we're going to try something slightly different. \n",
    "We're going to create a sorted list of the indices of the distances for each test observation. Then we can find the optimal K pretty quickly"
   ]
  },
  {
   "cell_type": "code",
   "execution_count": 94,
   "metadata": {
    "collapsed": true
   },
   "outputs": [],
   "source": [
    "def get_sorted_distance_vec(test_vec, train_x_data, train_y_data):\n",
    "    distances = map(lambda x: get_distance_metric(test_vec, x), train_x_data)\n",
    "    # sorts distances by index  \n",
    "    x = sorted(range(len(distances)), key=lambda k: distances[k])\n",
    "    return x"
   ]
  },
  {
   "cell_type": "code",
   "execution_count": 101,
   "metadata": {
    "collapsed": true
   },
   "outputs": [],
   "source": [
    "def get_distances_for_all(train_x_data, train_y_data, test_x_data, test_y_data):\n",
    "    correct = 0\n",
    "    distance_vectors = []\n",
    "    for test_vec, test_label, i in zip(test_x_data, test_y_data, range(len(test_y_data))):\n",
    "        prediction_vec = get_sorted_distance_vec(test_vec, train_x_data, train_y_data)\n",
    "        distance_vectors.append(prediction_vec)\n",
    "    return distance_vectors"
   ]
  },
  {
   "cell_type": "code",
   "execution_count": 102,
   "metadata": {},
   "outputs": [],
   "source": [
    "distance_vectors = get_distances_for_all(train_x_data, train_y_data, test_x_data, test_y_data)"
   ]
  },
  {
   "cell_type": "markdown",
   "metadata": {},
   "source": [
    "#### For the first 100 values of K, get K-NN"
   ]
  },
  {
   "cell_type": "code",
   "execution_count": 166,
   "metadata": {},
   "outputs": [
    {
     "name": "stdout",
     "output_type": "stream",
     "text": [
      "[0.9436970602889886, 0.931738913801694, 0.9446935724962631, 0.9436970602889886, 0.9431988041853513, 0.9407075236671649, 0.9412057797708022, 0.9397110114598903, 0.9397110114598903, 0.9357249626307922, 0.9337319382162431, 0.9302441454907823, 0.9302441454907823, 0.9287493771798705, 0.9292476332835077, 0.9267563527653214, 0.9252615844544095, 0.922272047832586, 0.9227703039362232, 0.918784255107125, 0.9182859990034878, 0.9202790234180369, 0.9202790234180369, 0.916791230692576, 0.9192825112107623, 0.9197807673143996, 0.9152964623816642, 0.9162929745889388, 0.9152964623816642, 0.9128051818634778, 0.9103139013452914, 0.9123069257598405, 0.9103139013452914, 0.909317389138017, 0.911310413552566, 0.9083208769307424, 0.9083208769307424, 0.9068261086198306, 0.9063278525161933, 0.9038365719980069, 0.9023418036870952, 0.9003487792725461, 0.9008470353761834, 0.9003487792725461, 0.8998505231689088, 0.8968609865470852, 0.8968609865470852, 0.8953662182361734, 0.8948679621325362, 0.8963627304434479, 0.8933731938216243, 0.8913801694070752, 0.8913801694070752, 0.8898854010961634, 0.8893871449925261, 0.8888888888888888, 0.8888888888888888, 0.8873941205779771, 0.8883906327852517, 0.8873941205779771, 0.8878923766816144, 0.8873941205779771, 0.8863976083707026, 0.8863976083707026, 0.8839063278525162, 0.8824115595416044, 0.8834080717488789, 0.8819133034379671, 0.8824115595416044, 0.8804185351270553, 0.8784255107125062, 0.8769307424015944, 0.8784255107125062, 0.8789237668161435, 0.877927254608869, 0.8769307424015944, 0.8754359740906826, 0.8769307424015944, 0.8759342301943199, 0.8754359740906826, 0.8754359740906826, 0.8749377179870453, 0.8739412057797707, 0.8714499252615845, 0.8709516691579472, 0.8704534130543099, 0.8694569008470354, 0.8689586447433981, 0.8689586447433981, 0.8679621325361235, 0.8684603886397608, 0.8679621325361235, 0.8664673642252118, 0.8664673642252118, 0.8684603886397608, 0.8644743398106627, 0.8649725959143, 0.8634778276033881, 0.8619830592924763, 0.8624813153961136]\n"
     ]
    }
   ],
   "source": [
    "k_scores = []\n",
    "for k in range(1, 101):\n",
    "    correct = 0\n",
    "    for i, (vec, true_label) in enumerate(zip(distance_vectors, test_y_data)):\n",
    "        # Takes only the first k values and finds their corresponding labels\n",
    "        labels = map(lambda x: train_y_data[x], vec[:k])\n",
    "        prediction = get_mode(labels)\n",
    "        if prediction == true_label:\n",
    "            correct += 1\n",
    "    k_scores.append(float(correct) / float(len(test_y_data)))\n",
    "print k_scores"
   ]
  },
  {
   "cell_type": "markdown",
   "metadata": {},
   "source": [
    "#### And the best K is...."
   ]
  },
  {
   "cell_type": "code",
   "execution_count": 170,
   "metadata": {},
   "outputs": [
    {
     "name": "stdout",
     "output_type": "stream",
     "text": [
      "Max K = 3 with score of 0.944693572496\n"
     ]
    }
   ],
   "source": [
    "print \"Max K =\", np.argmax(k_scores) + 1, \"with score of\", max(k_scores)"
   ]
  },
  {
   "cell_type": "markdown",
   "metadata": {},
   "source": [
    "#### Now, let's find the Confusion Matrix"
   ]
  },
  {
   "cell_type": "code",
   "execution_count": 171,
   "metadata": {},
   "outputs": [
    {
     "ename": "NameError",
     "evalue": "name 'confusion_matrix' is not defined",
     "output_type": "error",
     "traceback": [
      "\u001b[0;31m---------------------------------------------------------------------------\u001b[0m",
      "\u001b[0;31mNameError\u001b[0m                                 Traceback (most recent call last)",
      "\u001b[0;32m<ipython-input-171-b004d9fe85d1>\u001b[0m in \u001b[0;36m<module>\u001b[0;34m()\u001b[0m\n\u001b[1;32m      6\u001b[0m     \u001b[0mprediction\u001b[0m \u001b[0;34m=\u001b[0m \u001b[0mget_mode\u001b[0m\u001b[0;34m(\u001b[0m\u001b[0mlabels\u001b[0m\u001b[0;34m)\u001b[0m\u001b[0;34m\u001b[0m\u001b[0m\n\u001b[1;32m      7\u001b[0m     \u001b[0mpredictions\u001b[0m\u001b[0;34m.\u001b[0m\u001b[0mappend\u001b[0m\u001b[0;34m(\u001b[0m\u001b[0mprediction\u001b[0m\u001b[0;34m)\u001b[0m\u001b[0;34m\u001b[0m\u001b[0m\n\u001b[0;32m----> 8\u001b[0;31m \u001b[0mconfusion_matrix\u001b[0m\u001b[0;34m(\u001b[0m\u001b[0mtest_y_data\u001b[0m\u001b[0;34m,\u001b[0m \u001b[0mpredictions\u001b[0m\u001b[0;34m,\u001b[0m \u001b[0mlabels\u001b[0m\u001b[0;34m=\u001b[0m\u001b[0mrange\u001b[0m\u001b[0;34m(\u001b[0m\u001b[0;36m10\u001b[0m\u001b[0;34m)\u001b[0m\u001b[0;34m)\u001b[0m\u001b[0;34m\u001b[0m\u001b[0m\n\u001b[0m",
      "\u001b[0;31mNameError\u001b[0m: name 'confusion_matrix' is not defined"
     ]
    }
   ],
   "source": [
    "correct = 0\n",
    "K = 3\n",
    "predictions = []\n",
    "for i, (vec, true_label) in enumerate(zip(distance_vectors, test_y_data)):\n",
    "    labels = map(lambda x: train_y_data[x], vec[:k])\n",
    "    prediction = get_mode(labels)\n",
    "    predictions.append(prediction)\n",
    "confusion_matrix(test_y_data, predictions, labels=range(10))"
   ]
  },
  {
   "cell_type": "code",
   "execution_count": null,
   "metadata": {
    "collapsed": true
   },
   "outputs": [],
   "source": []
  }
 ],
 "metadata": {
  "kernelspec": {
   "display_name": "Python [default]",
   "language": "python",
   "name": "python2"
  },
  "language_info": {
   "codemirror_mode": {
    "name": "ipython",
    "version": 2
   },
   "file_extension": ".py",
   "mimetype": "text/x-python",
   "name": "python",
   "nbconvert_exporter": "python",
   "pygments_lexer": "ipython2",
   "version": "2.7.13"
  }
 },
 "nbformat": 4,
 "nbformat_minor": 2
}
