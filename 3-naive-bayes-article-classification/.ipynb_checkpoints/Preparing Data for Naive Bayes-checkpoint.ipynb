{
 "cells": [
  {
   "cell_type": "code",
   "execution_count": 2,
   "metadata": {
    "collapsed": true
   },
   "outputs": [],
   "source": [
    "import pandas as pd\n",
    "import numpy"
   ]
  },
  {
   "cell_type": "code",
   "execution_count": 3,
   "metadata": {
    "collapsed": true
   },
   "outputs": [],
   "source": [
    "df = pd.read_csv('data/NYT_data_cleaned.csv')"
   ]
  },
  {
   "cell_type": "code",
   "execution_count": 5,
   "metadata": {},
   "outputs": [],
   "source": [
    "del df['Unnamed: 0']"
   ]
  },
  {
   "cell_type": "code",
   "execution_count": 9,
   "metadata": {},
   "outputs": [],
   "source": [
    "y_vals = df.section"
   ]
  },
  {
   "cell_type": "code",
   "execution_count": 14,
   "metadata": {},
   "outputs": [
    {
     "data": {
      "text/html": [
       "<div>\n",
       "<style scoped>\n",
       "    .dataframe tbody tr th:only-of-type {\n",
       "        vertical-align: middle;\n",
       "    }\n",
       "\n",
       "    .dataframe tbody tr th {\n",
       "        vertical-align: top;\n",
       "    }\n",
       "\n",
       "    .dataframe thead th {\n",
       "        text-align: right;\n",
       "    }\n",
       "</style>\n",
       "<table border=\"1\" class=\"dataframe\">\n",
       "  <thead>\n",
       "    <tr style=\"text-align: right;\">\n",
       "      <th></th>\n",
       "      <th>id</th>\n",
       "      <th>headline</th>\n",
       "      <th>snippet</th>\n",
       "    </tr>\n",
       "  </thead>\n",
       "  <tbody>\n",
       "    <tr>\n",
       "      <th>0</th>\n",
       "      <td>59f89f9895d0e0246f213289</td>\n",
       "      <td>Cynthia Nixon to Host the National Book Awards</td>\n",
       "      <td>Cynthia Nixon's new role will be on the bookis...</td>\n",
       "    </tr>\n",
       "    <tr>\n",
       "      <th>1</th>\n",
       "      <td>59f89eb195d0e0246f213282</td>\n",
       "      <td>Borghese Gallery Gathers a Full House of Berni...</td>\n",
       "      <td>The most comprehensive exhibition of the Baroq...</td>\n",
       "    </tr>\n",
       "    <tr>\n",
       "      <th>2</th>\n",
       "      <td>59f89c5795d0e0246f213277</td>\n",
       "      <td>‘Stranger Things 2’: Pixar’s Andrew Stanton on...</td>\n",
       "      <td>The director of “Finding Nemo” and “Wall-E” di...</td>\n",
       "    </tr>\n",
       "    <tr>\n",
       "      <th>3</th>\n",
       "      <td>59f8972e95d0e0246f213265</td>\n",
       "      <td>Judge Accidentally Reveals Winner of Hot Bakin...</td>\n",
       "      <td>A judge on the Great British Bake Off, a widel...</td>\n",
       "    </tr>\n",
       "    <tr>\n",
       "      <th>4</th>\n",
       "      <td>59f893bb95d0e0246f21325a</td>\n",
       "      <td>2 Best Friends in a Charming Aussie Comedy Abo...</td>\n",
       "      <td>It's time to make two new friends: Celia Pacqu...</td>\n",
       "    </tr>\n",
       "  </tbody>\n",
       "</table>\n",
       "</div>"
      ],
      "text/plain": [
       "                         id  \\\n",
       "0  59f89f9895d0e0246f213289   \n",
       "1  59f89eb195d0e0246f213282   \n",
       "2  59f89c5795d0e0246f213277   \n",
       "3  59f8972e95d0e0246f213265   \n",
       "4  59f893bb95d0e0246f21325a   \n",
       "\n",
       "                                            headline  \\\n",
       "0     Cynthia Nixon to Host the National Book Awards   \n",
       "1  Borghese Gallery Gathers a Full House of Berni...   \n",
       "2  ‘Stranger Things 2’: Pixar’s Andrew Stanton on...   \n",
       "3  Judge Accidentally Reveals Winner of Hot Bakin...   \n",
       "4  2 Best Friends in a Charming Aussie Comedy Abo...   \n",
       "\n",
       "                                             snippet  \n",
       "0  Cynthia Nixon's new role will be on the bookis...  \n",
       "1  The most comprehensive exhibition of the Baroq...  \n",
       "2  The director of “Finding Nemo” and “Wall-E” di...  \n",
       "3  A judge on the Great British Bake Off, a widel...  \n",
       "4  It's time to make two new friends: Celia Pacqu...  "
      ]
     },
     "execution_count": 14,
     "metadata": {},
     "output_type": "execute_result"
    }
   ],
   "source": [
    "x_df = df[['id', 'headline', 'snippet']]\n",
    "x_df.head()"
   ]
  },
  {
   "cell_type": "code",
   "execution_count": null,
   "metadata": {
    "collapsed": true
   },
   "outputs": [],
   "source": [
    "exclude = set(string.punctuation)\n",
    "s = ''.join(ch for ch in s if ch not in exclude)"
   ]
  },
  {
   "cell_type": "code",
   "execution_count": null,
   "metadata": {
    "collapsed": true
   },
   "outputs": [],
   "source": []
  }
 ],
 "metadata": {
  "kernelspec": {
   "display_name": "Python [conda env:3.6default]",
   "language": "python",
   "name": "conda-env-3.6default-py"
  },
  "language_info": {
   "codemirror_mode": {
    "name": "ipython",
    "version": 3
   },
   "file_extension": ".py",
   "mimetype": "text/x-python",
   "name": "python",
   "nbconvert_exporter": "python",
   "pygments_lexer": "ipython3",
   "version": "3.6.2"
  }
 },
 "nbformat": 4,
 "nbformat_minor": 2
}
