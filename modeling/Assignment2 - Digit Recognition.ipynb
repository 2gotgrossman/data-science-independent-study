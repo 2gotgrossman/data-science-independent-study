{
 "cells": [
  {
   "cell_type": "code",
   "execution_count": 1,
   "metadata": {},
   "outputs": [],
   "source": [
    "import numpy as np\n",
    "from collections import Counter  # For mode\n",
    "from sklearn.metrics import confusion_matrix\n"
   ]
  },
  {
   "cell_type": "markdown",
   "metadata": {},
   "source": [
    "#### Load data"
   ]
  },
  {
   "cell_type": "code",
   "execution_count": 2,
   "metadata": {
    "collapsed": true
   },
   "outputs": [],
   "source": [
    "# lines cotains a list of a list of values. The first value in each sub-list is the y_value\n",
    "def get_formatted_data(data):\n",
    "    lines = map(lambda x: x.split(\" \"), data.split(\"\\n\"))\n",
    "    y_vals = []\n",
    "    x_vals = []\n",
    "    lines = filter(lambda line : line != [\"\"], lines)\n",
    "    for line in lines:\n",
    "        y_vals.append(int(float(line[0])))\n",
    "        x_vals.append( tuple( map(float, line[1:-1]) ) )\n",
    "    print len(y_vals)\n",
    "    return [x_vals, y_vals]"
   ]
  },
  {
   "cell_type": "code",
   "execution_count": 3,
   "metadata": {},
   "outputs": [
    {
     "name": "stdout",
     "output_type": "stream",
     "text": [
      "7291\n",
      "2007\n",
      "Observations in training set:  7291\n",
      "Observations in testing set:  2007\n"
     ]
    }
   ],
   "source": [
    "with open(\"zip.train\", 'r') as f:\n",
    "    train_data = f.read()\n",
    "with open(\"zip.test\", 'r') as f:\n",
    "    test_data = f.read()\n",
    "train_x_data, train_y_data = get_formatted_data(train_data)\n",
    "test_x_data, test_y_data = get_formatted_data(test_data)\n",
    "print \"Observations in training set: \", len(train_y_data)\n",
    "print \"Observations in testing set: \", len(test_y_data)"
   ]
  },
  {
   "cell_type": "markdown",
   "metadata": {},
   "source": [
    "#### Some Common Functions\n",
    "**_Note: since we can have more than 1 mode, we will just take the first mode we find._**"
   ]
  },
  {
   "cell_type": "code",
   "execution_count": 6,
   "metadata": {
    "collapsed": true
   },
   "outputs": [],
   "source": [
    "def get_distance_metric(vec1, vec2):\n",
    "    diffs = map(lambda (x,y): (x-y)**2, zip(vec1, vec2))\n",
    "    return sum(diffs)\n",
    "\n",
    "def get_mode(arr):\n",
    "    return Counter(arr).most_common(1)[0][0]"
   ]
  },
  {
   "cell_type": "markdown",
   "metadata": {},
   "source": [
    "#### K Nearest Neighbors Algorithm"
   ]
  },
  {
   "cell_type": "code",
   "execution_count": 7,
   "metadata": {
    "collapsed": true
   },
   "outputs": [],
   "source": [
    "def get_label_k_nn(test_vec, train_x_data, train_y_data, k=1):\n",
    "    distances = map(lambda x: get_distance_metric(test_vec, x), train_x_data)\n",
    "    \n",
    "    # finds the indices of the k values that have minimal distance\n",
    "    # Uses numpy magic\n",
    "    min_indices = np.argpartition(np.array(distances), k)[:k]\n",
    "    labels = map(lambda x: train_y_data[x], min_indices)\n",
    "    # Gets the mode\n",
    "    return get_mode(labels)"
   ]
  },
  {
   "cell_type": "code",
   "execution_count": 8,
   "metadata": {
    "collapsed": true
   },
   "outputs": [],
   "source": [
    "def test_knn(train_x_data, train_y_data, test_x_data, test_y_data, k=1):\n",
    "    correct = 0\n",
    "    for test_vec, test_label, i in zip(test_x_data, test_y_data, range(len(test_y_data))):\n",
    "        prediction = get_label_k_nn(test_vec, train_x_data, train_y_data, k)\n",
    "        if test_label == prediction:\n",
    "            correct += 1\n",
    "    return float(correct) / len(test_y_data)"
   ]
  },
  {
   "cell_type": "markdown",
   "metadata": {},
   "source": [
    "#### Test for K=1\n",
    "It takes about .5 seconds per test example (15 minutes total). The expensive part is generating the `distances` vector."
   ]
  },
  {
   "cell_type": "code",
   "execution_count": 163,
   "metadata": {
    "scrolled": false
   },
   "outputs": [
    {
     "data": {
      "text/plain": [
       "0.9436970602889886"
      ]
     },
     "execution_count": 163,
     "metadata": {},
     "output_type": "execute_result"
    }
   ],
   "source": [
    "test_knn(train_x_data, train_y_data, test_x_data, test_y_data, 1)"
   ]
  },
  {
   "cell_type": "markdown",
   "metadata": {},
   "source": [
    "#### Since it takes so long to do this K-NN, we're going to try something slightly different. \n",
    "We're going to create a sorted list of the indices of the distances for each test observation. Then we can find the optimal K pretty quickly"
   ]
  },
  {
   "cell_type": "code",
   "execution_count": 9,
   "metadata": {
    "collapsed": true
   },
   "outputs": [],
   "source": [
    "def get_sorted_distance_vec(test_vec, train_x_data, train_y_data):\n",
    "    distances = map(lambda x: get_distance_metric(test_vec, x), train_x_data)\n",
    "    # sorts distances by index  \n",
    "    x = sorted(range(len(distances)), key=lambda k: distances[k])\n",
    "    return x"
   ]
  },
  {
   "cell_type": "code",
   "execution_count": 10,
   "metadata": {
    "collapsed": true
   },
   "outputs": [],
   "source": [
    "def get_distances_for_all(train_x_data, train_y_data, test_x_data, test_y_data):\n",
    "    correct = 0\n",
    "    distance_vectors = []\n",
    "    for test_vec, test_label, i in zip(test_x_data, test_y_data, range(len(test_y_data))):\n",
    "        prediction_vec = get_sorted_distance_vec(test_vec, train_x_data, train_y_data)\n",
    "        distance_vectors.append(prediction_vec)\n",
    "    return distance_vectors"
   ]
  },
  {
   "cell_type": "code",
   "execution_count": null,
   "metadata": {
    "collapsed": true
   },
   "outputs": [],
   "source": [
    "distance_vectors = get_distances_for_all(train_x_data, train_y_data, test_x_data, test_y_data)"
   ]
  },
  {
   "cell_type": "markdown",
   "metadata": {},
   "source": [
    "#### For the first 100 values of K, get K-NN"
   ]
  },
  {
   "cell_type": "code",
   "execution_count": null,
   "metadata": {},
   "outputs": [],
   "source": [
    "k_scores = []\n",
    "for k in range(1, 101):\n",
    "    correct = 0\n",
    "    for i, (vec, true_label) in enumerate(zip(distance_vectors, test_y_data)):\n",
    "        # Takes only the first k values and finds their corresponding labels\n",
    "        labels = map(lambda x: train_y_data[x], vec[:k])\n",
    "        prediction = get_mode(labels)\n",
    "        if prediction == true_label:\n",
    "            correct += 1\n",
    "    k_scores.append(float(correct) / float(len(test_y_data)))\n",
    "print k_scores"
   ]
  },
  {
   "cell_type": "markdown",
   "metadata": {},
   "source": [
    "#### And the best K is...."
   ]
  },
  {
   "cell_type": "code",
   "execution_count": null,
   "metadata": {},
   "outputs": [],
   "source": [
    "print \"Max K =\", np.argmax(k_scores) + 1, \"with score of\", max(k_scores)"
   ]
  },
  {
   "cell_type": "markdown",
   "metadata": {},
   "source": [
    "#### Now, let's find the Confusion Matrix"
   ]
  },
  {
   "cell_type": "code",
   "execution_count": null,
   "metadata": {},
   "outputs": [],
   "source": [
    "correct = 0\n",
    "K = 3\n",
    "predictions = []\n",
    "for i, (vec, true_label) in enumerate(zip(distance_vectors, test_y_data)):\n",
    "    labels = map(lambda x: train_y_data[x], vec[:k])\n",
    "    prediction = get_mode(labels)\n",
    "    predictions.append(prediction)\n",
    "confusion_matrix(test_y_data, predictions, labels=range(10))"
   ]
  },
  {
   "cell_type": "code",
   "execution_count": null,
   "metadata": {
    "collapsed": true
   },
   "outputs": [],
   "source": []
  }
 ],
 "metadata": {
  "kernelspec": {
   "display_name": "Python [default]",
   "language": "python",
   "name": "python2"
  },
  "language_info": {
   "codemirror_mode": {
    "name": "ipython",
    "version": 2
   },
   "file_extension": ".py",
   "mimetype": "text/x-python",
   "name": "python",
   "nbconvert_exporter": "python",
   "pygments_lexer": "ipython2",
   "version": "2.7.13"
  }
 },
 "nbformat": 4,
 "nbformat_minor": 2
}
